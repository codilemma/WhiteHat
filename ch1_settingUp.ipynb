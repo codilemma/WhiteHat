{
 "cells": [
  {
   "cell_type": "markdown",
   "source": [
    "# Chapter 1 Setting Up\n",
    "\n",
    "https://learning.oreilly.com/library/view/ethical-hacking/9781098129095/xhtml/ch01.xhtml#ch01lev1\n",
    "\n",
    "## Five Virtual Machines\n",
    "- A pfSense VM:\n",
    "    * open source router/firewall \n",
    "    * protects vms from outside hackers\n",
    "    * https://www.pfsense.org/download/\n",
    "\n",
    "- Kali Linux VM:\n",
    "    * contains hacking tools need for this book\n",
    "    * https://www.offensive-security.com/kali-linux-vm-vmware-virtualbox-image-download/\n",
    "\n",
    "- Two Ubuntu linux Desktop VMs:\n",
    "    * used to demonstrate attacks on deskptop/laptop environments\n",
    "    * https://ubuntu.com/download/desktop\n",
    "    \n",
    "- Metasploitable VM:\n",
    "    * used to demonstrate attacks on linux servers\n",
    "    * https://sourceforge.net/projects/metasploitable/ \n",
    "\n"
   ],
   "metadata": {}
  },
  {
   "cell_type": "code",
   "execution_count": null,
   "source": [],
   "outputs": [],
   "metadata": {}
  }
 ],
 "metadata": {
  "orig_nbformat": 4,
  "language_info": {
   "name": "python"
  }
 },
 "nbformat": 4,
 "nbformat_minor": 2
}